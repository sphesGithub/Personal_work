{
 "cells": [
  {
   "cell_type": "code",
   "execution_count": 2,
   "metadata": {},
   "outputs": [],
   "source": [
    "# ---------------------------------------------------------------------------------------------------------------\n",
    "# Task 2 and 3 skeleton\n",
    "from pathlib import Path\n",
    "import matplotlib.pyplot as plt\n",
    "import numpy as np\n",
    "from sklearn import svm\n",
    "from sklearn.utils import Bunch\n",
    "from sklearn.model_selection import GridSearchCV, train_test_split\n",
    "from sklearn.preprocessing import StandardScaler,MinMaxScaler\n",
    "from sklearn.metrics import classification_report\n",
    "from sklearn.neural_network import MLPClassifier\n",
    "import warnings\n",
    "\n",
    "import skimage\n",
    "from skimage.io import imread\n",
    "from skimage.transform import resize\n",
    "\n",
    "\n",
    "# Suppress all warnings\n",
    "warnings.simplefilter(\"ignore\")\n",
    "\n",
    "def load_image_files(container_path, dimension=(30, 30)):\n",
    "    image_dir = Path(container_path)\n",
    "    folders = [directory for directory in image_dir.iterdir() if directory.is_dir()]\n",
    "    categories = [fo.name for fo in folders]\n",
    "\n",
    "    descr = \"Your own dataset\"\n",
    "    images = []\n",
    "    flat_data = []\n",
    "    target = []\n",
    "    for i, direc in enumerate(folders):\n",
    "        for file in direc.iterdir():\n",
    "            img = skimage.io.imread(file)\n",
    "            img_resized = resize(img, dimension, anti_aliasing=True, mode='reflect')\n",
    "            flat_data.append(img_resized.flatten())\n",
    "            images.append(img_resized)\n",
    "            target.append(i)\n",
    "    flat_data = np.array(flat_data)\n",
    "    target = np.array(target)\n",
    "    images = np.array(images)\n",
    "\n",
    "    # return in the exact same format as the built-in datasets\n",
    "    return Bunch(data=flat_data,\n",
    "                 target=target,\n",
    "                 target_names=categories,\n",
    "                 images=images,\n",
    "                 DESCR=descr)\n",
    "\n",
    "\n"
   ]
  },
  {
   "cell_type": "code",
   "execution_count": 3,
   "metadata": {},
   "outputs": [],
   "source": [
    "#1) Data Acquisition------------------------\n",
    "\n",
    "image_dataset = load_image_files(\"images/\")"
   ]
  },
  {
   "cell_type": "code",
   "execution_count": 4,
   "metadata": {},
   "outputs": [],
   "source": [
    "#2) Data sampling------------------------\n",
    "\n",
    "'''Split data, but randomly allocate to training/test sets'''\n",
    "X_train, X_test, y_train, y_test = train_test_split(image_dataset.data, image_dataset.target, test_size=0.5, random_state=42)"
   ]
  },
  {
   "cell_type": "code",
   "execution_count": 5,
   "metadata": {},
   "outputs": [],
   "source": [
    "# 3)Exploratory Data Analysis-------------------------------\n",
    "#skip for now\n"
   ]
  },
  {
   "cell_type": "code",
   "execution_count": 6,
   "metadata": {},
   "outputs": [],
   "source": [
    "#------------------------------------------------------------------------------------------\n",
    "#4) Data scaling( good for Distance and Gradient Descent based Problems)\n",
    "#initialise the scalers\n",
    "StandardScaler_scaler= StandardScaler()\n",
    "MinMaxScaler_scaler=MinMaxScaler()\n",
    "\n",
    "#fit and transform X_train & transform the X_test\n",
    "X_train_standardScaled=StandardScaler_scaler.fit_transform(X_train)\n",
    "#X_train_minmaxScaled= MinMaxScaler_scaler.fit_transform(X_train)\n",
    "\n",
    "X_test_standardScaled=StandardScaler_scaler.transform(X_test)\n",
    "#X_test_minmaxScaled=MinMaxScaler_scaler.transform(X_test)\n",
    "\n",
    "\n"
   ]
  },
  {
   "cell_type": "code",
   "execution_count": 7,
   "metadata": {},
   "outputs": [],
   "source": [
    "#------------------------------------------------------------------------------------------\n",
    "#5) Feature selection and extraction \n",
    "#skip for now"
   ]
  },
  {
   "cell_type": "code",
   "execution_count": 8,
   "metadata": {},
   "outputs": [],
   "source": [
    "#------------------------------------------------------------------------------------------\n",
    "#6) Initialize model\n",
    "# instantiate classifier with default hyperparameters\n",
    "svmModel=svm.SVC(gamma='auto')\n",
    "\n",
    "mlpModel = MLPClassifier()\n",
    "\n"
   ]
  },
  {
   "cell_type": "code",
   "execution_count": 9,
   "metadata": {},
   "outputs": [
    {
     "name": "stdout",
     "output_type": "stream",
     "text": [
      "GridSearch CV best score for SVM : 0.6322\n",
      "\n",
      "GridSearch CV best score for MLP : 0.6640\n",
      "\n",
      "Parameters that give the best results for SVM : \n",
      " {'C': 1, 'gamma': 0.001, 'kernel': 'rbf'}\n",
      "Parameters that give the best results for MLP: \n",
      " {'activation': 'relu', 'alpha': 10, 'early_stopping': True, 'hidden_layer_sizes': (16, 16, 16), 'random_state': 42, 'solver': 'adam'}\n",
      "\n",
      "\n",
      "Estimator that was chosen by the search for SVM : \n",
      " SVC(C=1, gamma=0.001)\n",
      "\n",
      "\n",
      "Estimator that was chosen by the search for MLP: \n",
      " MLPClassifier(alpha=10, early_stopping=True, hidden_layer_sizes=(16, 16, 16),\n",
      "              random_state=42)\n",
      "Evaluation for Standard Scaler for SVM\n",
      "\n",
      "Evaluation for Standard Scaler for MLP\n",
      "\n"
     ]
    }
   ],
   "source": [
    "#------------------------------------------------------------------------------------------\n",
    "#7) Train model\n",
    "tune_param =[\n",
    "                    {'kernel': ['rbf'], 'gamma': [1e-3, 1e-4],'C': [0.01,1,10]},\n",
    "                    {'kernel': ['linear'], 'C': [0.01,1,10]},\n",
    "                    {'kernel': ['poly'], 'C': [0.01,1,10]}\n",
    "            ]\n",
    "\n",
    "mlp_parameters = {\n",
    "    'hidden_layer_sizes': [(32,32,32),(28,28,28),(16,16,16)],\n",
    "    'activation': ['identity', 'logistic', 'tanh', 'relu'],\n",
    "    'solver': ['adam', 'sgd'],\n",
    "    'random_state': [42],                # Random state\n",
    "    'early_stopping': [True, False],      # Early stopping\n",
    "    'alpha':  [0.0001,0.001,0.01,1,10]\n",
    "}\n",
    "# Define weighted precision as the scoring metric\n",
    "grid_search=GridSearchCV(svmModel,tune_param,cv=10,scoring='precision_weighted')\n",
    "mlp_grid_search=GridSearchCV(mlpModel,mlp_parameters,cv=10,scoring='precision_weighted')\n",
    "#MinMaxScaler_gridSearchCV=grid_search.fit(X_test_minmaxScaled,y_train)\n",
    "StandardScaler_gridSearchCV=grid_search.fit(X_train_standardScaled,y_train)\n",
    "StandardScaler_mlp_gridSearchCV=mlp_grid_search.fit(X_train_standardScaled,y_train)\n",
    "\n",
    "# examine the best model\n",
    "# best score achieved during the GridSearchCV\n",
    "print('GridSearch CV best score for SVM : {:.4f}\\n'.format(StandardScaler_gridSearchCV.best_score_))\n",
    "print('GridSearch CV best score for MLP : {:.4f}\\n'.format(StandardScaler_mlp_gridSearchCV.best_score_))\n",
    "# print parameters that give the best results\n",
    "print('Parameters that give the best results for SVM :','\\n', (StandardScaler_gridSearchCV.best_params_))\n",
    "print('Parameters that give the best results for MLP:','\\n', (StandardScaler_mlp_gridSearchCV.best_params_))\n",
    "\n",
    "# print estimator that was chosen by the GridSearch\n",
    "print('\\n\\nEstimator that was chosen by the search for SVM :','\\n', (StandardScaler_gridSearchCV.best_estimator_))\n",
    "print('\\n\\nEstimator that was chosen by the search for MLP:','\\n', (StandardScaler_mlp_gridSearchCV.best_estimator_))\n",
    "\n",
    "\n",
    "print(\"Evaluation for Standard Scaler for SVM\\n\")\n",
    "means =StandardScaler_gridSearchCV.cv_results_['mean_test_score']\n",
    "stds = StandardScaler_gridSearchCV.cv_results_['std_test_score']\n",
    "params_list = StandardScaler_gridSearchCV.cv_results_['params']\n",
    "# for mean, std, p in zip(means, stds, params_list):\n",
    "#     print(f\"{mean:.3f} (+/-{std * 2:.03f}) for {p}\")\n",
    "# print(\"\\n\")\n",
    "\n",
    "print(\"Evaluation for Standard Scaler for MLP\\n\")\n",
    "means2 =StandardScaler_mlp_gridSearchCV.cv_results_['mean_test_score']\n",
    "stds2 = StandardScaler_mlp_gridSearchCV.cv_results_['std_test_score']\n",
    "params_list2 = StandardScaler_mlp_gridSearchCV.cv_results_['params']\n",
    "# for mean2, std2, p2 in zip(means2, stds2, params_list2):\n",
    "#     print(f\"{mean2:.3f} (+/-{std2 * 2:.03f}) for {p2}\")\n",
    "# print(\"\\n\")\n",
    "\n",
    "\n"
   ]
  },
  {
   "cell_type": "code",
   "execution_count": 10,
   "metadata": {},
   "outputs": [
    {
     "name": "stdout",
     "output_type": "stream",
     "text": [
      "Classification Report for test data for SVM:\n",
      "              precision    recall  f1-score   support\n",
      "\n",
      "        cats       0.55      0.73      0.63        51\n",
      "        dogs       0.58      0.39      0.46        49\n",
      "\n",
      "    accuracy                           0.56       100\n",
      "   macro avg       0.56      0.56      0.55       100\n",
      "weighted avg       0.56      0.56      0.55       100\n",
      "\n",
      "Classification Report for test data for MLP:\n",
      "              precision    recall  f1-score   support\n",
      "\n",
      "        cats       0.55      0.73      0.63        51\n",
      "        dogs       0.58      0.39      0.46        49\n",
      "\n",
      "    accuracy                           0.56       100\n",
      "   macro avg       0.56      0.56      0.55       100\n",
      "weighted avg       0.56      0.56      0.55       100\n",
      "\n"
     ]
    },
    {
     "data": {
      "text/plain": [
       "' kernel_means = {\\'rbf\\': [], \\'poly\\': [], \\'linear\\': []}\\nfor mean, std, params in zip(means, stds, params_list):\\n    kernel_means[params[\\'kernel\\']].append(mean)\\n\\n    \\nrbf_mean = np.mean(kernel_means[\\'rbf\\'])\\nprint(rbf_mean)\\npoly_mean = np.mean(kernel_means[\\'poly\\'])\\nprint(poly_mean)\\nlinear_mean = np.mean(kernel_means[\\'linear\\'])\\nprint(linear_mean)\\n\\n\\n# Plot the bar graph\\nbars = plt.bar([\\'rbf\\', \\'poly\\', \\'linear\\'], [rbf_mean, poly_mean, linear_mean],color=[\\'blue\\',\\'red\\',\\'yellow\\'])\\n\\n# Add text labels for each bar\\nfor bar, mean in zip(bars, [rbf_mean, poly_mean, linear_mean]):\\n    plt.text(bar.get_x() + bar.get_width() / 2, bar.get_height() + 0.01, f\\'{mean:.2f}\\', ha=\\'center\\', va=\\'bottom\\')\\n    \\nplt.title(\"Mean Precision Score per Kernel\")\\nplt.xlabel(\"Kernel\")\\nplt.ylabel(\"Mean Precision Score\")\\nplt.show() '"
      ]
     },
     "execution_count": 10,
     "metadata": {},
     "output_type": "execute_result"
    }
   ],
   "source": [
    "#------------------------------------------------------------------------------------------\n",
    "#9) Evaluate model\n",
    "best_model = StandardScaler_gridSearchCV.best_estimator_\n",
    "\n",
    "y_pred = best_model.predict(X_test_standardScaled)\n",
    "print(\"Classification Report for test data for SVM:\")\n",
    "print(classification_report(y_test, y_pred, target_names=image_dataset.target_names))\n",
    "\n",
    "best_model2 = StandardScaler_mlp_gridSearchCV.best_estimator_\n",
    "\n",
    "y_pred2 = best_model.predict(X_test_standardScaled)\n",
    "print(\"Classification Report for test data for MLP:\")\n",
    "print(classification_report(y_test, y_pred2, target_names=image_dataset.target_names))\n",
    "\n",
    "\"\"\" kernel_means = {'rbf': [], 'poly': [], 'linear': []}\n",
    "for mean, std, params in zip(means, stds, params_list):\n",
    "    kernel_means[params['kernel']].append(mean)\n",
    "\n",
    "    \n",
    "rbf_mean = np.mean(kernel_means['rbf'])\n",
    "print(rbf_mean)\n",
    "poly_mean = np.mean(kernel_means['poly'])\n",
    "print(poly_mean)\n",
    "linear_mean = np.mean(kernel_means['linear'])\n",
    "print(linear_mean)\n",
    "\n",
    "\n",
    "# Plot the bar graph\n",
    "bars = plt.bar(['rbf', 'poly', 'linear'], [rbf_mean, poly_mean, linear_mean],color=['blue','red','yellow'])\n",
    "\n",
    "# Add text labels for each bar\n",
    "for bar, mean in zip(bars, [rbf_mean, poly_mean, linear_mean]):\n",
    "    plt.text(bar.get_x() + bar.get_width() / 2, bar.get_height() + 0.01, f'{mean:.2f}', ha='center', va='bottom')\n",
    "    \n",
    "plt.title(\"Mean Precision Score per Kernel\")\n",
    "plt.xlabel(\"Kernel\")\n",
    "plt.ylabel(\"Mean Precision Score\")\n",
    "plt.show() \"\"\""
   ]
  },
  {
   "cell_type": "code",
   "execution_count": 11,
   "metadata": {},
   "outputs": [],
   "source": [
    "#below here I wa"
   ]
  }
 ],
 "metadata": {
  "kernelspec": {
   "display_name": "Python 3",
   "language": "python",
   "name": "python3"
  },
  "language_info": {
   "codemirror_mode": {
    "name": "ipython",
    "version": 3
   },
   "file_extension": ".py",
   "mimetype": "text/x-python",
   "name": "python",
   "nbconvert_exporter": "python",
   "pygments_lexer": "ipython3",
   "version": "3.12.3"
  }
 },
 "nbformat": 4,
 "nbformat_minor": 2
}
